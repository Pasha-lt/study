{
 "cells": [
  {
   "cell_type": "markdown",
   "id": "4386c5b1",
   "metadata": {},
   "source": [
    "Функція яка відправляє запит, враховуючи інформацію чи потрібно включати timeout"
   ]
  },
  {
   "cell_type": "code",
   "execution_count": 7,
   "id": "bca41009",
   "metadata": {},
   "outputs": [],
   "source": [
    "import requests\n",
    "\n",
    "\n",
    "def sender(url, new_timeout=None):\n",
    "    \"\"\"fubction which send request bases on requests\n",
    "    If you want to use timeout send it\"\"\"\n",
    "    if new_timeout is None:\n",
    "        response = requests.get(url=url)\n",
    "    else:\n",
    "        response = requests.get(url=url, timeout=new_timeout)\n",
    "    return response\n"
   ]
  },
  {
   "cell_type": "code",
   "execution_count": null,
   "id": "facf582f",
   "metadata": {},
   "outputs": [],
   "source": [
    "Функція яка перевіряє статус код"
   ]
  },
  {
   "cell_type": "code",
   "execution_count": 2,
   "id": "cfbe9ffd",
   "metadata": {},
   "outputs": [],
   "source": [
    "def checker(response):\n",
    "    if response.status_code == 200:\n",
    "        return True\n"
   ]
  },
  {
   "cell_type": "code",
   "execution_count": null,
   "id": "b94ffaeb",
   "metadata": {},
   "outputs": [],
   "source": [
    "Основна функція"
   ]
  },
  {
   "cell_type": "code",
   "execution_count": 3,
   "id": "3ce2267c",
   "metadata": {},
   "outputs": [],
   "source": [
    "def main(list_url):\n",
    "    list_200 = []\n",
    "    for url in list_url:\n",
    "        if checker(sender(url)):\n",
    "            list_200.append(url)\n",
    "    return list_200"
   ]
  },
  {
   "cell_type": "code",
   "execution_count": 4,
   "id": "757f49c2",
   "metadata": {},
   "outputs": [
    {
     "name": "stdout",
     "output_type": "stream",
     "text": [
      "['https://google.com', 'https://www.youtube.com/']\n"
     ]
    }
   ],
   "source": [
    "print(main([\"https://google.com\", \"https://google.com/нема_такої\",\n",
    "            \"https://www.youtube.com/\"]))"
   ]
  }
 ],
 "metadata": {
  "kernelspec": {
   "display_name": "Python 3 (ipykernel)",
   "language": "python",
   "name": "python3"
  },
  "language_info": {
   "codemirror_mode": {
    "name": "ipython",
    "version": 3
   },
   "file_extension": ".py",
   "mimetype": "text/x-python",
   "name": "python",
   "nbconvert_exporter": "python",
   "pygments_lexer": "ipython3",
   "version": "3.10.9"
  }
 },
 "nbformat": 4,
 "nbformat_minor": 5
}
